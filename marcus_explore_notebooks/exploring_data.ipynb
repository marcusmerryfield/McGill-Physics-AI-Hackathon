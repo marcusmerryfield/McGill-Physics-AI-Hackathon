{
 "cells": [
  {
   "cell_type": "code",
   "execution_count": 1,
   "metadata": {},
   "outputs": [],
   "source": [
    "import numpy as np\n",
    "import matplotlib.pyplot as plt\n",
    "import pandas as pd"
   ]
  },
  {
   "cell_type": "code",
   "execution_count": 3,
   "metadata": {},
   "outputs": [],
   "source": [
    "data = pd.read_csv(\"../data/planets_2019.11.01_20.07.23.csv\")"
   ]
  },
  {
   "cell_type": "code",
   "execution_count": 6,
   "metadata": {},
   "outputs": [
    {
     "name": "stderr",
     "output_type": "stream",
     "text": [
      "/home/marcus/miniconda3/lib/python3.6/site-packages/numpy/core/_methods.py:32: RuntimeWarning: invalid value encountered in reduce\n",
      "  return umr_minimum(a, axis, None, out, keepdims, initial)\n"
     ]
    }
   ],
   "source": [
    "mass_min = data.pl_bmassj.values.min()"
   ]
  },
  {
   "cell_type": "code",
   "execution_count": null,
   "metadata": {},
   "outputs": [],
   "source": [
    "data.pl_orbeccen"
   ]
  },
  {
   "cell_type": "code",
   "execution_count": 17,
   "metadata": {},
   "outputs": [
    {
     "data": {
      "text/plain": [
       "array([1.29    , 1.53    , 0.83    , ..., 0.827774, 2.51329 , 0.68    ])"
      ]
     },
     "execution_count": 17,
     "metadata": {},
     "output_type": "execute_result"
    }
   ],
   "source": [
    "data.pl_orbsmax.values"
   ]
  },
  {
   "cell_type": "code",
   "execution_count": null,
   "metadata": {},
   "outputs": [],
   "source": [
    "data.st_mass"
   ]
  },
  {
   "cell_type": "code",
   "execution_count": 13,
   "metadata": {},
   "outputs": [
    {
     "data": {
      "text/plain": [
       "array([4742., 4213., 4813., ...,   nan,   nan, 4780.])"
      ]
     },
     "execution_count": 13,
     "metadata": {},
     "output_type": "execute_result"
    }
   ],
   "source": [
    "data.st_teff.values"
   ]
  },
  {
   "cell_type": "code",
   "execution_count": 10,
   "metadata": {},
   "outputs": [
    {
     "data": {
      "text/plain": [
       "5.9999999999999995e-05"
      ]
     },
     "execution_count": 10,
     "metadata": {},
     "output_type": "execute_result"
    }
   ],
   "source": [
    "np.nanmin(data.pl_bmassj.values)"
   ]
  },
  {
   "cell_type": "code",
   "execution_count": 11,
   "metadata": {},
   "outputs": [
    {
     "data": {
      "text/plain": [
       "55.59"
      ]
     },
     "execution_count": 11,
     "metadata": {},
     "output_type": "execute_result"
    }
   ],
   "source": [
    "np.nanmax(data.pl_bmassj.values)"
   ]
  },
  {
   "cell_type": "code",
   "execution_count": 15,
   "metadata": {},
   "outputs": [
    {
     "data": {
      "text/plain": [
       "array([1, 1, 1, ..., 3, 3, 1])"
      ]
     },
     "execution_count": 15,
     "metadata": {},
     "output_type": "execute_result"
    }
   ],
   "source": [
    "data.pl_pnum.values"
   ]
  },
  {
   "cell_type": "code",
   "execution_count": 7,
   "metadata": {},
   "outputs": [
    {
     "data": {
      "text/plain": [
       "nan"
      ]
     },
     "execution_count": 7,
     "metadata": {},
     "output_type": "execute_result"
    }
   ],
   "source": [
    "mass_min"
   ]
  },
  {
   "cell_type": "code",
   "execution_count": null,
   "metadata": {},
   "outputs": [],
   "source": [
    "defs = pd.read_csv(\"./data/planets_2019.11.01_20.07.23__column_definitions_clean.csv\")"
   ]
  },
  {
   "cell_type": "code",
   "execution_count": 80,
   "metadata": {},
   "outputs": [
    {
     "data": {
      "text/plain": [
       "array(['rowid', 'pl_hostname', 'pl_letter', 'pl_name', 'pl_discmethod',\n",
       "       'pl_controvflag', 'pl_pnum', 'pl_orbper', 'pl_orbpererr1',\n",
       "       'pl_orbpererr2', 'pl_orbperlim', 'pl_orbsmax', 'pl_orbsmaxerr1',\n",
       "       'pl_orbsmaxerr2', 'pl_orbsmaxlim', 'pl_orbeccen',\n",
       "       'pl_orbeccenerr1', 'pl_orbeccenerr2', 'pl_orbeccenlim',\n",
       "       'pl_orbincl', 'pl_orbinclerr1', 'pl_orbinclerr2', 'pl_orbincllim',\n",
       "       'pl_bmassj', 'pl_bmassjerr1', 'pl_bmassjerr2', 'pl_bmassjlim',\n",
       "       'pl_bmassprov', 'pl_radj', 'pl_radjerr1', 'pl_radjerr2',\n",
       "       'pl_radjlim', 'pl_dens', 'pl_denserr1', 'pl_denserr2',\n",
       "       'pl_denslim', 'pl_ttvflag', 'pl_kepflag', 'pl_k2flag', 'pl_nnotes',\n",
       "       'ra_str', 'ra', 'dec_str', 'dec', 'st_dist', 'st_disterr1',\n",
       "       'st_disterr2', 'st_distlim', 'gaia_dist', 'gaia_disterr1',\n",
       "       'gaia_disterr2', 'gaia_distlim', 'st_optmag', 'st_optmagerr',\n",
       "       'st_optmaglim', 'st_optband', 'gaia_gmag', 'gaia_gmagerr',\n",
       "       'gaia_gmaglim', 'st_teff', 'st_tefferr1', 'st_tefferr2',\n",
       "       'st_tefflim', 'st_mass', 'st_masserr1', 'st_masserr2',\n",
       "       'st_masslim', 'st_rad', 'st_raderr1', 'st_raderr2', 'st_radlim',\n",
       "       'rowupdate', 'pl_tranflag', 'pl_rvflag', 'pl_imgflag',\n",
       "       'pl_astflag', 'pl_omflag', 'pl_cbflag', 'pl_angsep',\n",
       "       'pl_angseperr1', 'pl_angseperr2', 'pl_orbtper', 'pl_orbtpererr1',\n",
       "       'pl_orbtpererr2', 'pl_orbtperlim', 'pl_orblper', 'pl_orblpererr1',\n",
       "       'pl_orblpererr2', 'pl_orblperlim', 'pl_rvamp', 'pl_rvamperr1',\n",
       "       'pl_rvamperr2', 'pl_rvamplim', 'pl_eqt', 'pl_eqterr1',\n",
       "       'pl_eqterr2', 'pl_eqtlim', 'pl_insol', 'pl_insolerr1',\n",
       "       'pl_insolerr2', 'pl_insollim', 'pl_massj', 'pl_massjerr1',\n",
       "       'pl_massjerr2', 'pl_massjlim', 'pl_msinij', 'pl_msinijerr1',\n",
       "       'pl_msinijerr2', 'pl_msinijlim', 'pl_masse', 'pl_masseerr1',\n",
       "       'pl_masseerr2', 'pl_masselim', 'pl_msinie', 'pl_msinieerr1',\n",
       "       'pl_msinieerr2', 'pl_msinielim', 'pl_bmasse', 'pl_bmasseerr1',\n",
       "       'pl_bmasseerr2', 'pl_bmasselim', 'pl_rade', 'pl_radeerr1',\n",
       "       'pl_radeerr2', 'pl_radelim', 'pl_rads', 'pl_radserr1',\n",
       "       'pl_radserr2', 'pl_radslim', 'pl_trandep', 'pl_trandeperr1',\n",
       "       'pl_trandeperr2', 'pl_trandeplim', 'pl_trandur', 'pl_trandurerr1',\n",
       "       'pl_trandurerr2', 'pl_trandurlim', 'pl_tranmid', 'pl_tranmiderr1',\n",
       "       'pl_tranmiderr2', 'pl_tranmidlim', 'pl_tsystemref', 'pl_imppar',\n",
       "       'pl_impparerr1', 'pl_impparerr2', 'pl_impparlim', 'pl_occdep',\n",
       "       'pl_occdeperr1', 'pl_occdeperr2', 'pl_occdeplim', 'pl_ratdor',\n",
       "       'pl_ratdorerr1', 'pl_ratdorerr2', 'pl_ratdorlim', 'pl_ratror',\n",
       "       'pl_ratrorerr1', 'pl_ratrorerr2', 'pl_ratrorlim', 'pl_def_reflink',\n",
       "       'pl_disc', 'pl_disc_reflink', 'pl_locale', 'pl_facility',\n",
       "       'pl_telescope', 'pl_instrument', 'pl_status', 'pl_mnum',\n",
       "       'pl_st_npar', 'pl_st_nref', 'pl_pelink', 'pl_edelink',\n",
       "       'pl_publ_date', 'hd_name', 'hip_name', 'st_rah', 'st_glon',\n",
       "       'st_glat', 'st_elon', 'st_elat', 'st_plx', 'st_plxerr1',\n",
       "       'st_plxerr2', 'st_plxlim', 'gaia_plx', 'gaia_plxerr1',\n",
       "       'gaia_plxerr2', 'gaia_plxlim', 'st_pmra', 'st_pmraerr',\n",
       "       'st_pmralim', 'st_pmdec', 'st_pmdecerr', 'st_pmdeclim', 'st_pm',\n",
       "       'st_pmerr', 'st_pmlim', 'gaia_pmra', 'gaia_pmraerr',\n",
       "       'gaia_pmralim', 'gaia_pmdec', 'gaia_pmdecerr', 'gaia_pmdeclim',\n",
       "       'gaia_pm', 'gaia_pmerr', 'gaia_pmlim', 'st_radv', 'st_radverr1',\n",
       "       'st_radverr2', 'st_radvlim', 'st_sp', 'st_spstr', 'st_sperr',\n",
       "       'st_splim', 'st_logg', 'st_loggerr1', 'st_loggerr2', 'st_logglim',\n",
       "       'st_lum', 'st_lumerr1', 'st_lumerr2', 'st_lumlim', 'st_dens',\n",
       "       'st_denserr1', 'st_denserr2', 'st_denslim', 'st_metfe',\n",
       "       'st_metfeerr1', 'st_metfeerr2', 'st_metfelim', 'st_metratio',\n",
       "       'st_age', 'st_ageerr1', 'st_ageerr2', 'st_agelim', 'st_vsini',\n",
       "       'st_vsinierr1', 'st_vsinierr2', 'st_vsinilim', 'st_acts',\n",
       "       'st_actserr', 'st_actslim', 'st_actr', 'st_actrerr', 'st_actrlim',\n",
       "       'st_actlx', 'st_actlxerr', 'st_actlxlim', 'swasp_id', 'st_nts',\n",
       "       'st_nplc', 'st_nglc', 'st_nrvc', 'st_naxa', 'st_nimg', 'st_nspec',\n",
       "       'st_uj', 'st_ujerr', 'st_ujlim', 'st_vj', 'st_vjerr', 'st_vjlim',\n",
       "       'st_bj', 'st_bjerr', 'st_bjlim', 'st_rc', 'st_rcerr', 'st_rclim',\n",
       "       'st_ic', 'st_icerr', 'st_iclim', 'st_j', 'st_jerr', 'st_jlim',\n",
       "       'st_h', 'st_herr', 'st_hlim', 'st_k', 'st_kerr', 'st_klim',\n",
       "       'st_wise1', 'st_wise1err', 'st_wise1lim', 'st_wise2',\n",
       "       'st_wise2err', 'st_wise2lim', 'st_wise3', 'st_wise3err',\n",
       "       'st_wise3lim', 'st_wise4', 'st_wise4err', 'st_wise4lim',\n",
       "       'st_irac1', 'st_irac1err', 'st_irac1lim', 'st_irac2',\n",
       "       'st_irac2err', 'st_irac2lim', 'st_irac3', 'st_irac3err',\n",
       "       'st_irac3lim', 'st_irac4', 'st_irac4err', 'st_irac4lim',\n",
       "       'st_mips1', 'st_mips1err', 'st_mips1lim', 'st_mips2',\n",
       "       'st_mips2err', 'st_mips2lim', 'st_mips3', 'st_mips3err',\n",
       "       'st_mips3lim', 'st_iras1', 'st_iras1err', 'st_iras1lim',\n",
       "       'st_iras2', 'st_iras2err', 'st_iras2lim', 'st_iras3',\n",
       "       'st_iras3err', 'st_iras3lim', 'st_iras4', 'st_iras4err',\n",
       "       'st_iras4lim', 'st_photn', 'st_umbj', 'st_umbjerr', 'st_umbjlim',\n",
       "       'st_bmvj', 'st_bmvjerr', 'st_bmvjlim', 'st_vjmic', 'st_vjmicerr',\n",
       "       'st_vjmiclim', 'st_vjmrc', 'st_vjmrcerr', 'st_vjmrclim', 'st_jmh2',\n",
       "       'st_jmh2err', 'st_jmh2lim', 'st_hmk2', 'st_hmk2err', 'st_hmk2lim',\n",
       "       'st_jmk2', 'st_jmk2err', 'st_jmk2lim', 'st_bmy', 'st_bmyerr',\n",
       "       'st_bmylim', 'st_m1', 'st_m1err', 'st_m1lim', 'st_c1', 'st_c1err',\n",
       "       'st_c1lim', 'st_colorn'], dtype=object)"
      ]
     },
     "execution_count": 80,
     "metadata": {},
     "output_type": "execute_result"
    }
   ],
   "source": [
    "data.columns.values"
   ]
  },
  {
   "cell_type": "code",
   "execution_count": 70,
   "metadata": {},
   "outputs": [
    {
     "data": {
      "text/plain": [
       "array(['rowid', 'pl_hostname', 'pl_letter', 'pl_name', 'pl_discmethod',\n",
       "       'pl_controvflag', 'pl_pnum', 'pl_orbper', 'pl_orbpererr1',\n",
       "       'pl_orbpererr2', 'pl_orbperlim', 'pl_orbsmax', 'pl_orbsmaxerr1',\n",
       "       'pl_orbsmaxerr2', 'pl_orbsmaxlim', 'pl_orbeccen',\n",
       "       'pl_orbeccenerr1', 'pl_orbeccenerr2', 'pl_orbeccenlim',\n",
       "       'pl_orbincl', 'pl_orbinclerr1', 'pl_orbinclerr2', 'pl_orbincllim',\n",
       "       'pl_bmassj', 'pl_bmassjerr1', 'pl_bmassjerr2', 'pl_bmassjlim',\n",
       "       'pl_bmassprov', 'pl_radj', 'pl_radjerr1', 'pl_radjerr2',\n",
       "       'pl_radjlim', 'pl_dens', 'pl_denserr1', 'pl_denserr2',\n",
       "       'pl_denslim', 'pl_ttvflag', 'pl_kepflag', 'pl_k2flag', 'pl_nnotes',\n",
       "       'ra_str', 'ra', 'dec_str', 'dec', 'st_dist', 'st_disterr1',\n",
       "       'st_disterr2', 'st_distlim', 'gaia_dist', 'gaia_disterr1',\n",
       "       'gaia_disterr2', 'gaia_distlim', 'st_optmag', 'st_optmagerr',\n",
       "       'st_optmaglim', 'st_optband', 'gaia_gmag', 'gaia_gmagerr',\n",
       "       'gaia_gmaglim', 'st_teff', 'st_tefferr1', 'st_tefferr2',\n",
       "       'st_tefflim', 'st_mass', 'st_masserr1', 'st_masserr2',\n",
       "       'st_masslim', 'st_rad', 'st_raderr1', 'st_raderr2', 'st_radlim',\n",
       "       'rowupdate', 'pl_tranflag', 'pl_rvflag', 'pl_imgflag',\n",
       "       'pl_astflag', 'pl_omflag', 'pl_cbflag', 'pl_angsep',\n",
       "       'pl_angseperr1', 'pl_angseperr2', 'pl_orbtper', 'pl_orbtpererr1',\n",
       "       'pl_orbtpererr2', 'pl_orbtperlim', 'pl_orblper', 'pl_orblpererr1',\n",
       "       'pl_orblpererr2', 'pl_orblperlim', 'pl_rvamp', 'pl_rvamperr1',\n",
       "       'pl_rvamperr2', 'pl_rvamplim', 'pl_eqt', 'pl_eqterr1',\n",
       "       'pl_eqterr2', 'pl_eqtlim', 'pl_insol', 'pl_insolerr1',\n",
       "       'pl_insolerr2', 'pl_insollim', 'pl_massj', 'pl_massjerr1',\n",
       "       'pl_massjerr2', 'pl_massjlim', 'pl_msinij', 'pl_msinijerr1',\n",
       "       'pl_msinijerr2', 'pl_msinijlim', 'pl_masse', 'pl_masseerr1',\n",
       "       'pl_masseerr2', 'pl_masselim', 'pl_msinie', 'pl_msinieerr1',\n",
       "       'pl_msinieerr2', 'pl_msinielim', 'pl_bmasse', 'pl_bmasseerr1',\n",
       "       'pl_bmasseerr2', 'pl_bmasselim', 'pl_rade', 'pl_radeerr1',\n",
       "       'pl_radeerr2', 'pl_radelim', 'pl_rads', 'pl_radserr1',\n",
       "       'pl_radserr2', 'pl_radslim', 'pl_trandep', 'pl_trandeperr1',\n",
       "       'pl_trandeperr2', 'pl_trandeplim', 'pl_trandur', 'pl_trandurerr1',\n",
       "       'pl_trandurerr2', 'pl_trandurlim', 'pl_tranmid', 'pl_tranmiderr1',\n",
       "       'pl_tranmiderr2', 'pl_tranmidlim', 'pl_tsystemref', 'pl_imppar',\n",
       "       'pl_impparerr1', 'pl_impparerr2', 'pl_impparlim', 'pl_occdep',\n",
       "       'pl_occdeperr1', 'pl_occdeperr2', 'pl_occdeplim', 'pl_ratdor',\n",
       "       'pl_ratdorerr1', 'pl_ratdorerr2', 'pl_ratdorlim', 'pl_ratror',\n",
       "       'pl_ratrorerr1', 'pl_ratrorerr2', 'pl_ratrorlim', 'pl_def_reflink',\n",
       "       'pl_disc', 'pl_disc_reflink', 'pl_locale', 'pl_facility',\n",
       "       'pl_telescope', 'pl_instrument', 'pl_status', 'pl_mnum',\n",
       "       'pl_st_npar', 'pl_st_nref', 'pl_pelink', 'pl_edelink',\n",
       "       'pl_publ_date', 'hd_name', 'hip_name', 'st_rah', 'st_glon',\n",
       "       'st_glat', 'st_elon', 'st_elat', 'st_plx', 'st_plxerr1',\n",
       "       'st_plxerr2', 'st_plxlim', 'gaia_plx', 'gaia_plxerr1',\n",
       "       'gaia_plxerr2', 'gaia_plxlim', 'st_pmra', 'st_pmraerr',\n",
       "       'st_pmralim', 'st_pmdec', 'st_pmdecerr', 'st_pmdeclim', 'st_pm',\n",
       "       'st_pmerr', 'st_pmlim', 'gaia_pmra', 'gaia_pmraerr',\n",
       "       'gaia_pmralim', 'gaia_pmdec', 'gaia_pmdecerr', 'gaia_pmdeclim',\n",
       "       'gaia_pm', 'gaia_pmerr', 'gaia_pmlim', 'st_radv', 'st_radverr1',\n",
       "       'st_radverr2', 'st_radvlim', 'st_sp', 'st_spstr', 'st_sperr',\n",
       "       'st_splim', 'st_logg', 'st_loggerr1', 'st_loggerr2', 'st_logglim',\n",
       "       'st_lum', 'st_lumerr1', 'st_lumerr2', 'st_lumlim', 'st_dens',\n",
       "       'st_denserr1', 'st_denserr2', 'st_denslim', 'st_metfe',\n",
       "       'st_metfeerr1', 'st_metfeerr2', 'st_metfelim', 'st_metratio',\n",
       "       'st_age', 'st_ageerr1', 'st_ageerr2', 'st_agelim', 'st_vsini',\n",
       "       'st_vsinierr1', 'st_vsinierr2', 'st_vsinilim', 'st_acts',\n",
       "       'st_actserr', 'st_actslim', 'st_actr', 'st_actrerr', 'st_actrlim',\n",
       "       'st_actlx', 'st_actlxerr', 'st_actlxlim', 'swasp_id', 'st_nts',\n",
       "       'st_nplc', 'st_nglc', 'st_nrvc', 'st_naxa', 'st_nimg', 'st_nspec',\n",
       "       'st_uj', 'st_ujerr', 'st_ujlim', 'st_vj', 'st_vjerr', 'st_vjlim',\n",
       "       'st_bj', 'st_bjerr', 'st_bjlim', 'st_rc', 'st_rcerr', 'st_rclim',\n",
       "       'st_ic', 'st_icerr', 'st_iclim', 'st_j', 'st_jerr', 'st_jlim',\n",
       "       'st_h', 'st_herr', 'st_hlim', 'st_k', 'st_kerr', 'st_klim',\n",
       "       'st_wise1', 'st_wise1err', 'st_wise1lim', 'st_wise2',\n",
       "       'st_wise2err', 'st_wise2lim', 'st_wise3', 'st_wise3err',\n",
       "       'st_wise3lim', 'st_wise4', 'st_wise4err', 'st_wise4lim',\n",
       "       'st_irac1', 'st_irac1err', 'st_irac1lim', 'st_irac2',\n",
       "       'st_irac2err', 'st_irac2lim', 'st_irac3', 'st_irac3err',\n",
       "       'st_irac3lim', 'st_irac4', 'st_irac4err', 'st_irac4lim',\n",
       "       'st_mips1', 'st_mips1err', 'st_mips1lim', 'st_mips2',\n",
       "       'st_mips2err', 'st_mips2lim', 'st_mips3', 'st_mips3err',\n",
       "       'st_mips3lim', 'st_iras1', 'st_iras1err', 'st_iras1lim',\n",
       "       'st_iras2', 'st_iras2err', 'st_iras2lim', 'st_iras3',\n",
       "       'st_iras3err', 'st_iras3lim', 'st_iras4', 'st_iras4err',\n",
       "       'st_iras4lim', 'st_photn', 'st_umbj', 'st_umbjerr', 'st_umbjlim',\n",
       "       'st_bmvj', 'st_bmvjerr', 'st_bmvjlim', 'st_vjmic', 'st_vjmicerr',\n",
       "       'st_vjmiclim', 'st_vjmrc', 'st_vjmrcerr', 'st_vjmrclim', 'st_jmh2',\n",
       "       'st_jmh2err', 'st_jmh2lim', 'st_hmk2', 'st_hmk2err', 'st_hmk2lim',\n",
       "       'st_jmk2', 'st_jmk2err', 'st_jmk2lim', 'st_bmy', 'st_bmyerr',\n",
       "       'st_bmylim', 'st_m1', 'st_m1err', 'st_m1lim', 'st_c1', 'st_c1err',\n",
       "       'st_c1lim', 'st_colorn'], dtype=object)"
      ]
     },
     "execution_count": 70,
     "metadata": {},
     "output_type": "execute_result"
    }
   ],
   "source": [
    "data.columns.values"
   ]
  },
  {
   "cell_type": "code",
   "execution_count": 72,
   "metadata": {},
   "outputs": [
    {
     "data": {
      "text/plain": [
       "[<matplotlib.lines.Line2D at 0x7f624fca84e0>]"
      ]
     },
     "execution_count": 72,
     "metadata": {},
     "output_type": "execute_result"
    },
    {
     "data": {
      "image/png": "[encoded data removed]",
      "text/plain": [
       "<Figure size 432x288 with 1 Axes>"
      ]
     },
     "metadata": {
      "needs_background": "light"
     },
     "output_type": "display_data"
    }
   ],
   "source": [
    "plt.plot(data.pl_orbper)"
   ]
  },
  {
   "cell_type": "code",
   "execution_count": 46,
   "metadata": {},
   "outputs": [
    {
     "data": {
      "text/plain": [
       "(array([ 178.,  172.,  144.,  174.,  188.,  200.,  136.,  924., 1768.,\n",
       "         200.]),\n",
       " array([3.25750000e-01, 3.62906054e+01, 7.22554608e+01, 1.08220316e+02,\n",
       "        1.44185172e+02, 1.80150027e+02, 2.16114882e+02, 2.52079738e+02,\n",
       "        2.88044593e+02, 3.24009449e+02, 3.59974304e+02]),\n",
       " <a list of 10 Patch objects>)"
      ]
     },
     "execution_count": 46,
     "metadata": {},
     "output_type": "execute_result"
    },
    {
     "data": {
      "image/png": "[encoded data removed]",
      "text/plain": [
       "<Figure size 432x288 with 1 Axes>"
      ]
     },
     "metadata": {
      "needs_background": "light"
     },
     "output_type": "display_data"
    }
   ],
   "source": [
    "plt.hist(data.ra.values)"
   ]
  },
  {
   "cell_type": "code",
   "execution_count": 47,
   "metadata": {
    "scrolled": true
   },
   "outputs": [
    {
     "data": {
      "text/plain": [
       "(array([  37.,  129.,  149.,  345.,  365.,  288.,  226., 2453.,   68.,\n",
       "          24.]),\n",
       " array([-84.231613 , -67.2348364, -50.2380598, -33.2412832, -16.2445066,\n",
       "          0.75227  ,  17.7490466,  34.7458232,  51.7425998,  68.7393764,\n",
       "         85.736153 ]),\n",
       " <a list of 10 Patch objects>)"
      ]
     },
     "execution_count": 47,
     "metadata": {},
     "output_type": "execute_result"
    },
    {
     "data": {
      "image/png": "[encoded data removed]",
      "text/plain": [
       "<Figure size 432x288 with 1 Axes>"
      ]
     },
     "metadata": {
      "needs_background": "light"
     },
     "output_type": "display_data"
    }
   ],
   "source": [
    "plt.hist(data.dec.values)"
   ]
  },
  {
   "cell_type": "markdown",
   "metadata": {},
   "source": [
    "# Test making a planetary orbit"
   ]
  },
  {
   "cell_type": "code",
   "execution_count": 86,
   "metadata": {},
   "outputs": [],
   "source": [
    "test_T = data.pl_orbper.values[0]\n",
    "test_a = data.pl_orbsmax.values[0]\n",
    "test_e = data.pl_orbeccen.values[0]"
   ]
  },
  {
   "cell_type": "markdown",
   "metadata": {},
   "source": [
    "Definition of the ellipse"
   ]
  },
  {
   "cell_type": "code",
   "execution_count": 85,
   "metadata": {},
   "outputs": [],
   "source": [
    "def r(th, a, e):\n",
    "    num = a*(1-e**2)\n",
    "    den = 1 + e*np.cos(th)\n",
    "    return num/den"
   ]
  },
  {
   "cell_type": "markdown",
   "metadata": {},
   "source": [
    "I think this is wrong, the orbital velocity should change with time probably, so it moves more quickly when close to the other gravitational object."
   ]
  },
  {
   "cell_type": "code",
   "execution_count": 113,
   "metadata": {},
   "outputs": [],
   "source": [
    "t = np.linspace(0, test_T*2*np.pi, 100)\n",
    "th = t/test_T"
   ]
  },
  {
   "cell_type": "code",
   "execution_count": 114,
   "metadata": {},
   "outputs": [],
   "source": [
    "radius = r(th, test_a, test_e)"
   ]
  },
  {
   "cell_type": "code",
   "execution_count": 115,
   "metadata": {},
   "outputs": [
    {
     "data": {
      "text/plain": [
       "[<matplotlib.lines.Line2D at 0x7f6250ae5048>]"
      ]
     },
     "execution_count": 115,
     "metadata": {},
     "output_type": "execute_result"
    },
    {
     "data": {
      "image/png": "[encoded data removed]",
      "text/plain": [
       "<Figure size 432x288 with 1 Axes>"
      ]
     },
     "metadata": {
      "needs_background": "light"
     },
     "output_type": "display_data"
    }
   ],
   "source": [
    "plt.plot(radius)"
   ]
  },
  {
   "cell_type": "code",
   "execution_count": 119,
   "metadata": {},
   "outputs": [],
   "source": [
    "x = radius*np.cos(th)\n",
    "y = radius*np.sin(th)"
   ]
  },
  {
   "cell_type": "code",
   "execution_count": 118,
   "metadata": {},
   "outputs": [],
   "source": [
    "from matplotlib.animation import FuncAnimation\n",
    "# plt.style.use('ggplot')"
   ]
  },
  {
   "cell_type": "code",
   "execution_count": 123,
   "metadata": {},
   "outputs": [
    {
     "data": {
      "text/plain": [
       "[(-1.2546358635439625, 1.2546358635439625), (-1.5869505139531341, 0.99201)]"
      ]
     },
     "execution_count": 123,
     "metadata": {},
     "output_type": "execute_result"
    },
    {
     "data": {
      "image/png": "[encoded data removed]",
      "text/plain": [
       "<Figure size 360x216 with 1 Axes>"
      ]
     },
     "metadata": {
      "needs_background": "light"
     },
     "output_type": "display_data"
    }
   ],
   "source": [
    "fig, ax = plt.subplots(figsize=(5, 3))\n",
    "ax.set(xlim=(x.min(), x.max()), ylim=(y.min(), y.max()))"
   ]
  },
  {
   "cell_type": "code",
   "execution_count": 128,
   "metadata": {},
   "outputs": [],
   "source": [
    "orbit_line = ax.plot(x, y, 'k--')[0]\n",
    "orbit_planet = ax.plot(x[0], y[0], 'ro', markersize=5)[0]"
   ]
  },
  {
   "cell_type": "code",
   "execution_count": null,
   "metadata": {},
   "outputs": [],
   "source": [
    "orbit_planet.set"
   ]
  },
  {
   "cell_type": "code",
   "execution_count": 129,
   "metadata": {},
   "outputs": [],
   "source": [
    "def animate(i):\n",
    "    orbit_planet.set_xdata(x[i])\n",
    "    orbit_planet.set_ydata(y[i])"
   ]
  },
  {
   "cell_type": "code",
   "execution_count": 130,
   "metadata": {},
   "outputs": [
    {
     "data": {
      "text/plain": [
       "<Figure size 432x288 with 0 Axes>"
      ]
     },
     "metadata": {},
     "output_type": "display_data"
    }
   ],
   "source": [
    "anim = FuncAnimation(\n",
    "    fig, animate, interval=100, frames=len(t)-1\n",
    ")\n",
    " \n",
    "plt.draw()\n",
    "plt.show()"
   ]
  },
  {
   "cell_type": "markdown",
   "metadata": {},
   "source": [
    "Very wrong"
   ]
  },
  {
   "cell_type": "code",
   "execution_count": 131,
   "metadata": {},
   "outputs": [],
   "source": [
    "anim.save(\"test.mp4\")"
   ]
  },
  {
   "cell_type": "markdown",
   "metadata": {},
   "source": [
    "# Trying to plot orbits with `rebound` nbody code"
   ]
  },
  {
   "cell_type": "code",
   "execution_count": 137,
   "metadata": {},
   "outputs": [],
   "source": [
    "import rebound"
   ]
  },
  {
   "cell_type": "code",
   "execution_count": 157,
   "metadata": {},
   "outputs": [
    {
     "data": {
      "text/plain": [
       "20       2.100000\n",
       "21       3.600000\n",
       "22      11.600000\n",
       "25       0.115227\n",
       "26       0.241376\n",
       "27       5.503000\n",
       "28       0.015440\n",
       "29       0.788000\n",
       "31       0.050201\n",
       "32       0.217500\n",
       "33       0.476000\n",
       "105           NaN\n",
       "139      0.060700\n",
       "140      0.125400\n",
       "141      1.030400\n",
       "150      0.019700\n",
       "151      0.057000\n",
       "152      0.698000\n",
       "156      0.143390\n",
       "157      0.361750\n",
       "158      0.193940\n",
       "159      0.082080\n",
       "165      0.035000\n",
       "166      0.061000\n",
       "167      0.204000\n",
       "181      0.040610\n",
       "182      0.072100\n",
       "183      0.028150\n",
       "186      0.050500\n",
       "187      0.125000\n",
       "          ...    \n",
       "3831     0.047200\n",
       "3832     0.073300\n",
       "3833     0.011110\n",
       "3834     0.015210\n",
       "3835     0.021440\n",
       "3836     0.028170\n",
       "3837     0.037100\n",
       "3838     0.045100\n",
       "3839          NaN\n",
       "3857     0.168800\n",
       "3858     0.082500\n",
       "3859     0.108300\n",
       "3860     0.308000\n",
       "3967          NaN\n",
       "3968     1.393000\n",
       "3969          NaN\n",
       "3970          NaN\n",
       "4032     0.037500\n",
       "4033     0.089000\n",
       "4034     0.470000\n",
       "4044     0.015570\n",
       "4045     0.020900\n",
       "4046     0.027640\n",
       "4075     0.538000\n",
       "4076     1.334000\n",
       "4077     0.133000\n",
       "4078     0.243000\n",
       "4080     0.059222\n",
       "4081     0.827774\n",
       "4082     2.513290\n",
       "Name: pl_orbsmax, Length: 817, dtype: float64"
      ]
     },
     "execution_count": 157,
     "metadata": {},
     "output_type": "execute_result"
    }
   ],
   "source": [
    "data.pl_orbsmax[data.pl_pnum.values > 2]"
   ]
  },
  {
   "cell_type": "code",
   "execution_count": 146,
   "metadata": {},
   "outputs": [],
   "source": [
    "ind_planets = data.pl_hostname.values == \"55 Cnc\""
   ]
  },
  {
   "cell_type": "code",
   "execution_count": 217,
   "metadata": {},
   "outputs": [],
   "source": [
    "mass_planets = data.pl_bmassj.values[ind_planets]\n",
    "a_planets = data.pl_orbsmax.values[ind_planets]\n",
    "e_planets = data.pl_orbeccen.values[ind_planets]\n",
    "p_planets = data.pl_orbper.values[ind_planets]\n",
    "i_planets = data.pl_orbincl.values[ind_planets]\n",
    "mass_star = data.st_mass.values[ind_planets][0]"
   ]
  },
  {
   "cell_type": "code",
   "execution_count": 218,
   "metadata": {},
   "outputs": [],
   "source": [
    "from astropy import units,constants"
   ]
  },
  {
   "cell_type": "code",
   "execution_count": 219,
   "metadata": {},
   "outputs": [],
   "source": [
    "stellar_over_jupiter = constants.M_sun.value/constants.M_jup.value"
   ]
  },
  {
   "cell_type": "code",
   "execution_count": 220,
   "metadata": {},
   "outputs": [],
   "source": [
    "mass_planets = mass_planets/stellar_over_jupiter"
   ]
  },
  {
   "cell_type": "code",
   "execution_count": 221,
   "metadata": {},
   "outputs": [],
   "source": [
    "# Make simulation\n",
    "sim = rebound.Simulation()\n",
    "# Add the star\n",
    "sim.add(m=mass_star)\n",
    "# Add the planets\n",
    "for mass,a,e,p,i in zip(mass_planets, a_planets, e_planets, p_planets, i_planets):\n",
    "    sim.add(primary=sim.particles[0],m=mass, e=e, a=a, inc=i)"
   ]
  },
  {
   "cell_type": "code",
   "execution_count": 222,
   "metadata": {},
   "outputs": [
    {
     "data": {
      "image/png": "[encoded data removed]",
      "text/plain": [
       "<Figure size 360x360 with 1 Axes>"
      ]
     },
     "metadata": {
      "needs_background": "light"
     },
     "output_type": "display_data"
    }
   ],
   "source": [
    "fig, ax = rebound.OrbitPlot(sim)"
   ]
  },
  {
   "cell_type": "code",
   "execution_count": 140,
   "metadata": {},
   "outputs": [],
   "source": [
    "rebound.Orbit?"
   ]
  },
  {
   "cell_type": "code",
   "execution_count": 139,
   "metadata": {},
   "outputs": [],
   "source": [
    "sim.add?"
   ]
  },
  {
   "cell_type": "code",
   "execution_count": 20,
   "metadata": {},
   "outputs": [
    {
     "name": "stdout",
     "output_type": "stream",
     "text": [
      "(0.998077662437524, 0.9992310649750096, 0.7460207612456747, 1.0)\n"
     ]
    }
   ],
   "source": [
    "from matplotlib.cm import get_cmap\n",
    "\n",
    "cmap = get_cmap('Spectral')\n",
    "\n",
    "rgba = cmap(0.5)\n",
    "print(rgba)"
   ]
  },
  {
   "cell_type": "code",
   "execution_count": 26,
   "metadata": {},
   "outputs": [],
   "source": [
    "T_s_min = 500\n",
    "T_s_max = 5e4"
   ]
  },
  {
   "cell_type": "code",
   "execution_count": 42,
   "metadata": {},
   "outputs": [],
   "source": [
    "def scale_cmap(T):\n",
    "    a = 1/(T_s_max - T_s_min)\n",
    "    b = 1 - a*T_s_max\n",
    "    val = a*T + b\n",
    "    return val"
   ]
  },
  {
   "cell_type": "code",
   "execution_count": 45,
   "metadata": {},
   "outputs": [
    {
     "data": {
      "text/plain": [
       "0.004040404040403976"
      ]
     },
     "execution_count": 45,
     "metadata": {},
     "output_type": "execute_result"
    }
   ],
   "source": [
    "scale_cmap(700)"
   ]
  },
  {
   "cell_type": "code",
   "execution_count": 29,
   "metadata": {},
   "outputs": [
    {
     "data": {
      "text/plain": [
       "(0.3686274509803922, 0.30980392156862746, 0.6352941176470588, 1.0)"
      ]
     },
     "execution_count": 29,
     "metadata": {},
     "output_type": "execute_result"
    }
   ],
   "source": [
    "cmap(scale_cmap(500))"
   ]
  }
 ],
 "metadata": {
  "kernelspec": {
   "display_name": "Python 3",
   "language": "python",
   "name": "python3"
  },
  "language_info": {
   "codemirror_mode": {
    "name": "ipython",
    "version": 3
   },
   "file_extension": ".py",
   "mimetype": "text/x-python",
   "name": "python",
   "nbconvert_exporter": "python",
   "pygments_lexer": "ipython3",
   "version": "3.6.8"
  }
 },
 "nbformat": 4,
 "nbformat_minor": 2
}
